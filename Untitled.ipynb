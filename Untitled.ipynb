{
 "cells": [
  {
   "cell_type": "markdown",
   "id": "7428f2d4-dc54-450b-a959-7aa8dd57072d",
   "metadata": {},
   "source": [
    "Q1.who developed python programming language?\n",
    "ans:Goido Van Rossum developed python programming language.\n",
    "\n",
    "Q2.which type of programming does python supoart?\n",
    "ans:Python is an interpreted,interactive,object-oriented programming language.\n",
    "\n",
    "Q3.Is python case sensitive when dealing with identifiers?\n",
    "ans: Yes, Pyhon is a case-sensitive programming language.\n",
    "\n",
    "Q4.What is the correct extension of python file?\n",
    "ans: .py is the correct extension of python file.\n",
    "\n",
    "Q5.is python code is compiled or interpreted?\n",
    "ans: yes, python language is first compiled and then interpreted.the compilation part is hidden by the programmer thus,many programmers believe thet it is an interpreted language.\n",
    "\n",
    "Q6.Name a few blocks of code used to define a python language?\n",
    "ans:  a module, aa function body and a class definition.\n",
    "\n",
    "Q7.state a character used to give single line comments in pyhon?\n",
    "ans single # character.\n",
    "\n",
    "Q8.mention functions which can help us to find the version of python that we are currently working on?\n",
    "ans: the function sys.version  can help us to find the version of python that we are currently working on.\n",
    "\n",
    "Q9.python supports the creaction of anonymous functions at runtime using a construct called_ _ _ _ _\n",
    "ans: python supports the creaction of anonymous functions at runtime, using a constuct called Lambda.\n",
    "\n",
    "Q10.what does pip stand for python?\n",
    "ans:developed in 2008, pip is the standerd tool for installing Python packages and their dependencies in a secure manner.\n",
    "\n",
    "Q11.mention a few built-in functions in python?\n",
    "ans: python bool(), python bin(), python char(), python dict() etc.\n",
    "\n",
    "Q12.what is the maximum possible length of an identifier in python?\n",
    "ans: 79 characters\n",
    "\n",
    "Q13.what sre the benifits of using python?\n",
    "ans: * large developer community.python is the most programming language in the world \n",
    "     * extensive libtraries\n",
    "     * write less do more.\n",
    "     * portability   etc.\n",
    "     \n",
    "Q14. how is memory managed in python?  \n",
    "ans: memory management in python involves the management of a private heap. a private heap is a portion of memory that is exclusive to the python process.\n",
    "\n",
    "Q15.how to install python on windows and set path variables?\n",
    "ans:\n",
    "\n",
    "q16 is indentation required in python?\n",
    "ans: yes, indentaton is important to python beacuse it's how to determine scope.scope is how python knows what code belongs to what part of the programm.\n",
    " \n",
    " "
   ]
  }
 ],
 "metadata": {
  "kernelspec": {
   "display_name": "Python 3 (ipykernel)",
   "language": "python",
   "name": "python3"
  },
  "language_info": {
   "codemirror_mode": {
    "name": "ipython",
    "version": 3
   },
   "file_extension": ".py",
   "mimetype": "text/x-python",
   "name": "python",
   "nbconvert_exporter": "python",
   "pygments_lexer": "ipython3",
   "version": "3.10.8"
  }
 },
 "nbformat": 4,
 "nbformat_minor": 5
}
